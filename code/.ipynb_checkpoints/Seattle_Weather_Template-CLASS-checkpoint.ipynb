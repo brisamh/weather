{
 "cells": [
  {
   "cell_type": "markdown",
   "metadata": {
    "id": "CT4gTNQTh9n1"
   },
   "source": [
    "# Load and explore the data"
   ]
  },
  {
   "cell_type": "markdown",
   "metadata": {
    "id": "dwvtDMCYlPus"
   },
   "source": [
    "## Import libraries"
   ]
  },
  {
   "cell_type": "code",
   "execution_count": 1,
   "metadata": {
    "id": "DQZAzYri_ru5"
   },
   "outputs": [],
   "source": [
    "# Import pandas, numpy, and matplotlib\n",
    "import pandas as pd\n",
    "import numpy as np\n",
    "import matplotlib.pyplot as plt\n",
    "\n",
    "# seaborn is a data visualization library built on matplotlib\n",
    "import seaborn as sns\n",
    "\n",
    "# set the plotting style\n",
    "sns.set_style(\"whitegrid\")"
   ]
  },
  {
   "cell_type": "markdown",
   "metadata": {
    "id": "5qccuG8vy7Ja"
   },
   "source": [
    "## Load the data"
   ]
  },
  {
   "cell_type": "code",
   "execution_count": 2,
   "metadata": {
    "id": "xYdcJWUhIc8U"
   },
   "outputs": [
    {
     "data": {
      "text/html": [
       "<div>\n",
       "<style scoped>\n",
       "    .dataframe tbody tr th:only-of-type {\n",
       "        vertical-align: middle;\n",
       "    }\n",
       "\n",
       "    .dataframe tbody tr th {\n",
       "        vertical-align: top;\n",
       "    }\n",
       "\n",
       "    .dataframe thead th {\n",
       "        text-align: right;\n",
       "    }\n",
       "</style>\n",
       "<table border=\"1\" class=\"dataframe\">\n",
       "  <thead>\n",
       "    <tr style=\"text-align: right;\">\n",
       "      <th></th>\n",
       "      <th>STATION</th>\n",
       "      <th>NAME</th>\n",
       "      <th>DATE</th>\n",
       "      <th>DAPR</th>\n",
       "      <th>MDPR</th>\n",
       "      <th>PRCP</th>\n",
       "      <th>SNOW</th>\n",
       "      <th>SNWD</th>\n",
       "      <th>WESD</th>\n",
       "      <th>WESF</th>\n",
       "    </tr>\n",
       "  </thead>\n",
       "  <tbody>\n",
       "    <tr>\n",
       "      <th>0</th>\n",
       "      <td>US1WAKG0225</td>\n",
       "      <td>SEATTLE 2.1 ESE, WA US</td>\n",
       "      <td>1/1/18</td>\n",
       "      <td>NaN</td>\n",
       "      <td>NaN</td>\n",
       "      <td>0.00</td>\n",
       "      <td>NaN</td>\n",
       "      <td>NaN</td>\n",
       "      <td>NaN</td>\n",
       "      <td>NaN</td>\n",
       "    </tr>\n",
       "    <tr>\n",
       "      <th>1</th>\n",
       "      <td>US1WAKG0225</td>\n",
       "      <td>SEATTLE 2.1 ESE, WA US</td>\n",
       "      <td>1/2/18</td>\n",
       "      <td>NaN</td>\n",
       "      <td>NaN</td>\n",
       "      <td>0.00</td>\n",
       "      <td>NaN</td>\n",
       "      <td>NaN</td>\n",
       "      <td>NaN</td>\n",
       "      <td>NaN</td>\n",
       "    </tr>\n",
       "    <tr>\n",
       "      <th>2</th>\n",
       "      <td>US1WAKG0225</td>\n",
       "      <td>SEATTLE 2.1 ESE, WA US</td>\n",
       "      <td>1/3/18</td>\n",
       "      <td>NaN</td>\n",
       "      <td>NaN</td>\n",
       "      <td>0.00</td>\n",
       "      <td>NaN</td>\n",
       "      <td>NaN</td>\n",
       "      <td>NaN</td>\n",
       "      <td>NaN</td>\n",
       "    </tr>\n",
       "    <tr>\n",
       "      <th>3</th>\n",
       "      <td>US1WAKG0225</td>\n",
       "      <td>SEATTLE 2.1 ESE, WA US</td>\n",
       "      <td>1/4/18</td>\n",
       "      <td>NaN</td>\n",
       "      <td>NaN</td>\n",
       "      <td>0.00</td>\n",
       "      <td>NaN</td>\n",
       "      <td>NaN</td>\n",
       "      <td>NaN</td>\n",
       "      <td>NaN</td>\n",
       "    </tr>\n",
       "    <tr>\n",
       "      <th>4</th>\n",
       "      <td>US1WAKG0225</td>\n",
       "      <td>SEATTLE 2.1 ESE, WA US</td>\n",
       "      <td>1/5/18</td>\n",
       "      <td>NaN</td>\n",
       "      <td>NaN</td>\n",
       "      <td>0.25</td>\n",
       "      <td>NaN</td>\n",
       "      <td>NaN</td>\n",
       "      <td>NaN</td>\n",
       "      <td>NaN</td>\n",
       "    </tr>\n",
       "  </tbody>\n",
       "</table>\n",
       "</div>"
      ],
      "text/plain": [
       "       STATION                    NAME    DATE  DAPR  MDPR  PRCP  SNOW  SNWD  \\\n",
       "0  US1WAKG0225  SEATTLE 2.1 ESE, WA US  1/1/18   NaN   NaN  0.00   NaN   NaN   \n",
       "1  US1WAKG0225  SEATTLE 2.1 ESE, WA US  1/2/18   NaN   NaN  0.00   NaN   NaN   \n",
       "2  US1WAKG0225  SEATTLE 2.1 ESE, WA US  1/3/18   NaN   NaN  0.00   NaN   NaN   \n",
       "3  US1WAKG0225  SEATTLE 2.1 ESE, WA US  1/4/18   NaN   NaN  0.00   NaN   NaN   \n",
       "4  US1WAKG0225  SEATTLE 2.1 ESE, WA US  1/5/18   NaN   NaN  0.25   NaN   NaN   \n",
       "\n",
       "   WESD  WESF  \n",
       "0   NaN   NaN  \n",
       "1   NaN   NaN  \n",
       "2   NaN   NaN  \n",
       "3   NaN   NaN  \n",
       "4   NaN   NaN  "
      ]
     },
     "execution_count": 2,
     "metadata": {},
     "output_type": "execute_result"
    }
   ],
   "source": [
    "df_seattle = pd.read_csv('https://raw.githubusercontent.com/brisamh/weather/refs/heads/main/data/seattle_rain.csv')\n",
    "df_seattle.head()"
   ]
  },
  {
   "cell_type": "code",
   "execution_count": 3,
   "metadata": {
    "id": "YI_VqZ2-JI2_"
   },
   "outputs": [
    {
     "data": {
      "text/html": [
       "<div>\n",
       "<style scoped>\n",
       "    .dataframe tbody tr th:only-of-type {\n",
       "        vertical-align: middle;\n",
       "    }\n",
       "\n",
       "    .dataframe tbody tr th {\n",
       "        vertical-align: top;\n",
       "    }\n",
       "\n",
       "    .dataframe thead th {\n",
       "        text-align: right;\n",
       "    }\n",
       "</style>\n",
       "<table border=\"1\" class=\"dataframe\">\n",
       "  <thead>\n",
       "    <tr style=\"text-align: right;\">\n",
       "      <th></th>\n",
       "      <th>STATION</th>\n",
       "      <th>NAME</th>\n",
       "      <th>DATE</th>\n",
       "      <th>DAPR</th>\n",
       "      <th>MDPR</th>\n",
       "      <th>PRCP</th>\n",
       "      <th>SNOW</th>\n",
       "      <th>SNWD</th>\n",
       "    </tr>\n",
       "  </thead>\n",
       "  <tbody>\n",
       "    <tr>\n",
       "      <th>0</th>\n",
       "      <td>US1MOSS0027</td>\n",
       "      <td>ST. CHARLES 2.3 NE, MO US</td>\n",
       "      <td>2017-01-01</td>\n",
       "      <td>NaN</td>\n",
       "      <td>NaN</td>\n",
       "      <td>0.00</td>\n",
       "      <td>0.0</td>\n",
       "      <td>NaN</td>\n",
       "    </tr>\n",
       "    <tr>\n",
       "      <th>1</th>\n",
       "      <td>US1MOSS0027</td>\n",
       "      <td>ST. CHARLES 2.3 NE, MO US</td>\n",
       "      <td>2017-01-03</td>\n",
       "      <td>NaN</td>\n",
       "      <td>NaN</td>\n",
       "      <td>0.35</td>\n",
       "      <td>NaN</td>\n",
       "      <td>NaN</td>\n",
       "    </tr>\n",
       "    <tr>\n",
       "      <th>2</th>\n",
       "      <td>US1MOSS0027</td>\n",
       "      <td>ST. CHARLES 2.3 NE, MO US</td>\n",
       "      <td>2017-01-04</td>\n",
       "      <td>NaN</td>\n",
       "      <td>NaN</td>\n",
       "      <td>0.03</td>\n",
       "      <td>NaN</td>\n",
       "      <td>NaN</td>\n",
       "    </tr>\n",
       "    <tr>\n",
       "      <th>3</th>\n",
       "      <td>US1MOSS0027</td>\n",
       "      <td>ST. CHARLES 2.3 NE, MO US</td>\n",
       "      <td>2017-01-05</td>\n",
       "      <td>NaN</td>\n",
       "      <td>NaN</td>\n",
       "      <td>0.04</td>\n",
       "      <td>1.2</td>\n",
       "      <td>NaN</td>\n",
       "    </tr>\n",
       "    <tr>\n",
       "      <th>4</th>\n",
       "      <td>US1MOSS0027</td>\n",
       "      <td>ST. CHARLES 2.3 NE, MO US</td>\n",
       "      <td>2017-01-06</td>\n",
       "      <td>NaN</td>\n",
       "      <td>NaN</td>\n",
       "      <td>0.00</td>\n",
       "      <td>0.0</td>\n",
       "      <td>1.0</td>\n",
       "    </tr>\n",
       "  </tbody>\n",
       "</table>\n",
       "</div>"
      ],
      "text/plain": [
       "       STATION                       NAME        DATE  DAPR  MDPR  PRCP  SNOW  \\\n",
       "0  US1MOSS0027  ST. CHARLES 2.3 NE, MO US  2017-01-01   NaN   NaN  0.00   0.0   \n",
       "1  US1MOSS0027  ST. CHARLES 2.3 NE, MO US  2017-01-03   NaN   NaN  0.35   NaN   \n",
       "2  US1MOSS0027  ST. CHARLES 2.3 NE, MO US  2017-01-04   NaN   NaN  0.03   NaN   \n",
       "3  US1MOSS0027  ST. CHARLES 2.3 NE, MO US  2017-01-05   NaN   NaN  0.04   1.2   \n",
       "4  US1MOSS0027  ST. CHARLES 2.3 NE, MO US  2017-01-06   NaN   NaN  0.00   0.0   \n",
       "\n",
       "   SNWD  \n",
       "0   NaN  \n",
       "1   NaN  \n",
       "2   NaN  \n",
       "3   NaN  \n",
       "4   1.0  "
      ]
     },
     "execution_count": 3,
     "metadata": {},
     "output_type": "execute_result"
    }
   ],
   "source": [
    "df_stl = pd.read_csv('https://raw.githubusercontent.com/brisamh/weather/refs/heads/main/data/stl_rain.csv')\n",
    "df_stl.head()"
   ]
  },
  {
   "cell_type": "markdown",
   "metadata": {
    "id": "OHVSgzXFd4nf"
   },
   "source": [
    "## Explore the contents of the data sets"
   ]
  },
  {
   "cell_type": "markdown",
   "metadata": {
    "id": "gYxy4Sy6d9_j"
   },
   "source": [
    "##### Start by looking at the head of each data frame.\n",
    "\n",
    "This will let us see the names of the columns and a few example values for each column."
   ]
  },
  {
   "cell_type": "code",
   "execution_count": 4,
   "metadata": {},
   "outputs": [
    {
     "data": {
      "text/html": [
       "<div>\n",
       "<style scoped>\n",
       "    .dataframe tbody tr th:only-of-type {\n",
       "        vertical-align: middle;\n",
       "    }\n",
       "\n",
       "    .dataframe tbody tr th {\n",
       "        vertical-align: top;\n",
       "    }\n",
       "\n",
       "    .dataframe thead th {\n",
       "        text-align: right;\n",
       "    }\n",
       "</style>\n",
       "<table border=\"1\" class=\"dataframe\">\n",
       "  <thead>\n",
       "    <tr style=\"text-align: right;\">\n",
       "      <th></th>\n",
       "      <th>STATION</th>\n",
       "      <th>NAME</th>\n",
       "      <th>DATE</th>\n",
       "      <th>DAPR</th>\n",
       "      <th>MDPR</th>\n",
       "      <th>PRCP</th>\n",
       "      <th>SNOW</th>\n",
       "      <th>SNWD</th>\n",
       "    </tr>\n",
       "  </thead>\n",
       "  <tbody>\n",
       "    <tr>\n",
       "      <th>0</th>\n",
       "      <td>US1MOSS0027</td>\n",
       "      <td>ST. CHARLES 2.3 NE, MO US</td>\n",
       "      <td>2017-01-01</td>\n",
       "      <td>NaN</td>\n",
       "      <td>NaN</td>\n",
       "      <td>0.00</td>\n",
       "      <td>0.0</td>\n",
       "      <td>NaN</td>\n",
       "    </tr>\n",
       "    <tr>\n",
       "      <th>1</th>\n",
       "      <td>US1MOSS0027</td>\n",
       "      <td>ST. CHARLES 2.3 NE, MO US</td>\n",
       "      <td>2017-01-03</td>\n",
       "      <td>NaN</td>\n",
       "      <td>NaN</td>\n",
       "      <td>0.35</td>\n",
       "      <td>NaN</td>\n",
       "      <td>NaN</td>\n",
       "    </tr>\n",
       "    <tr>\n",
       "      <th>2</th>\n",
       "      <td>US1MOSS0027</td>\n",
       "      <td>ST. CHARLES 2.3 NE, MO US</td>\n",
       "      <td>2017-01-04</td>\n",
       "      <td>NaN</td>\n",
       "      <td>NaN</td>\n",
       "      <td>0.03</td>\n",
       "      <td>NaN</td>\n",
       "      <td>NaN</td>\n",
       "    </tr>\n",
       "    <tr>\n",
       "      <th>3</th>\n",
       "      <td>US1MOSS0027</td>\n",
       "      <td>ST. CHARLES 2.3 NE, MO US</td>\n",
       "      <td>2017-01-05</td>\n",
       "      <td>NaN</td>\n",
       "      <td>NaN</td>\n",
       "      <td>0.04</td>\n",
       "      <td>1.2</td>\n",
       "      <td>NaN</td>\n",
       "    </tr>\n",
       "    <tr>\n",
       "      <th>4</th>\n",
       "      <td>US1MOSS0027</td>\n",
       "      <td>ST. CHARLES 2.3 NE, MO US</td>\n",
       "      <td>2017-01-06</td>\n",
       "      <td>NaN</td>\n",
       "      <td>NaN</td>\n",
       "      <td>0.00</td>\n",
       "      <td>0.0</td>\n",
       "      <td>1.0</td>\n",
       "    </tr>\n",
       "    <tr>\n",
       "      <th>5</th>\n",
       "      <td>US1MOSS0027</td>\n",
       "      <td>ST. CHARLES 2.3 NE, MO US</td>\n",
       "      <td>2017-01-10</td>\n",
       "      <td>NaN</td>\n",
       "      <td>NaN</td>\n",
       "      <td>0.00</td>\n",
       "      <td>0.0</td>\n",
       "      <td>NaN</td>\n",
       "    </tr>\n",
       "    <tr>\n",
       "      <th>6</th>\n",
       "      <td>US1MOSS0027</td>\n",
       "      <td>ST. CHARLES 2.3 NE, MO US</td>\n",
       "      <td>2017-01-11</td>\n",
       "      <td>NaN</td>\n",
       "      <td>NaN</td>\n",
       "      <td>0.00</td>\n",
       "      <td>0.0</td>\n",
       "      <td>NaN</td>\n",
       "    </tr>\n",
       "    <tr>\n",
       "      <th>7</th>\n",
       "      <td>US1MOSS0027</td>\n",
       "      <td>ST. CHARLES 2.3 NE, MO US</td>\n",
       "      <td>2017-01-12</td>\n",
       "      <td>NaN</td>\n",
       "      <td>NaN</td>\n",
       "      <td>0.00</td>\n",
       "      <td>NaN</td>\n",
       "      <td>NaN</td>\n",
       "    </tr>\n",
       "    <tr>\n",
       "      <th>8</th>\n",
       "      <td>US1MOSS0027</td>\n",
       "      <td>ST. CHARLES 2.3 NE, MO US</td>\n",
       "      <td>2017-01-13</td>\n",
       "      <td>NaN</td>\n",
       "      <td>NaN</td>\n",
       "      <td>0.00</td>\n",
       "      <td>0.0</td>\n",
       "      <td>NaN</td>\n",
       "    </tr>\n",
       "    <tr>\n",
       "      <th>9</th>\n",
       "      <td>US1MOSS0027</td>\n",
       "      <td>ST. CHARLES 2.3 NE, MO US</td>\n",
       "      <td>2017-01-14</td>\n",
       "      <td>NaN</td>\n",
       "      <td>NaN</td>\n",
       "      <td>0.51</td>\n",
       "      <td>0.1</td>\n",
       "      <td>NaN</td>\n",
       "    </tr>\n",
       "  </tbody>\n",
       "</table>\n",
       "</div>"
      ],
      "text/plain": [
       "       STATION                       NAME        DATE  DAPR  MDPR  PRCP  SNOW  \\\n",
       "0  US1MOSS0027  ST. CHARLES 2.3 NE, MO US  2017-01-01   NaN   NaN  0.00   0.0   \n",
       "1  US1MOSS0027  ST. CHARLES 2.3 NE, MO US  2017-01-03   NaN   NaN  0.35   NaN   \n",
       "2  US1MOSS0027  ST. CHARLES 2.3 NE, MO US  2017-01-04   NaN   NaN  0.03   NaN   \n",
       "3  US1MOSS0027  ST. CHARLES 2.3 NE, MO US  2017-01-05   NaN   NaN  0.04   1.2   \n",
       "4  US1MOSS0027  ST. CHARLES 2.3 NE, MO US  2017-01-06   NaN   NaN  0.00   0.0   \n",
       "5  US1MOSS0027  ST. CHARLES 2.3 NE, MO US  2017-01-10   NaN   NaN  0.00   0.0   \n",
       "6  US1MOSS0027  ST. CHARLES 2.3 NE, MO US  2017-01-11   NaN   NaN  0.00   0.0   \n",
       "7  US1MOSS0027  ST. CHARLES 2.3 NE, MO US  2017-01-12   NaN   NaN  0.00   NaN   \n",
       "8  US1MOSS0027  ST. CHARLES 2.3 NE, MO US  2017-01-13   NaN   NaN  0.00   0.0   \n",
       "9  US1MOSS0027  ST. CHARLES 2.3 NE, MO US  2017-01-14   NaN   NaN  0.51   0.1   \n",
       "\n",
       "   SNWD  \n",
       "0   NaN  \n",
       "1   NaN  \n",
       "2   NaN  \n",
       "3   NaN  \n",
       "4   1.0  \n",
       "5   NaN  \n",
       "6   NaN  \n",
       "7   NaN  \n",
       "8   NaN  \n",
       "9   NaN  "
      ]
     },
     "execution_count": 4,
     "metadata": {},
     "output_type": "execute_result"
    }
   ],
   "source": [
    "df_stl.head(10)"
   ]
  },
  {
   "cell_type": "code",
   "execution_count": 5,
   "metadata": {},
   "outputs": [
    {
     "data": {
      "text/html": [
       "<div>\n",
       "<style scoped>\n",
       "    .dataframe tbody tr th:only-of-type {\n",
       "        vertical-align: middle;\n",
       "    }\n",
       "\n",
       "    .dataframe tbody tr th {\n",
       "        vertical-align: top;\n",
       "    }\n",
       "\n",
       "    .dataframe thead th {\n",
       "        text-align: right;\n",
       "    }\n",
       "</style>\n",
       "<table border=\"1\" class=\"dataframe\">\n",
       "  <thead>\n",
       "    <tr style=\"text-align: right;\">\n",
       "      <th></th>\n",
       "      <th>STATION</th>\n",
       "      <th>NAME</th>\n",
       "      <th>DATE</th>\n",
       "      <th>DAPR</th>\n",
       "      <th>MDPR</th>\n",
       "      <th>PRCP</th>\n",
       "      <th>SNOW</th>\n",
       "      <th>SNWD</th>\n",
       "      <th>WESD</th>\n",
       "      <th>WESF</th>\n",
       "    </tr>\n",
       "  </thead>\n",
       "  <tbody>\n",
       "    <tr>\n",
       "      <th>0</th>\n",
       "      <td>US1WAKG0225</td>\n",
       "      <td>SEATTLE 2.1 ESE, WA US</td>\n",
       "      <td>1/1/18</td>\n",
       "      <td>NaN</td>\n",
       "      <td>NaN</td>\n",
       "      <td>0.00</td>\n",
       "      <td>NaN</td>\n",
       "      <td>NaN</td>\n",
       "      <td>NaN</td>\n",
       "      <td>NaN</td>\n",
       "    </tr>\n",
       "    <tr>\n",
       "      <th>1</th>\n",
       "      <td>US1WAKG0225</td>\n",
       "      <td>SEATTLE 2.1 ESE, WA US</td>\n",
       "      <td>1/2/18</td>\n",
       "      <td>NaN</td>\n",
       "      <td>NaN</td>\n",
       "      <td>0.00</td>\n",
       "      <td>NaN</td>\n",
       "      <td>NaN</td>\n",
       "      <td>NaN</td>\n",
       "      <td>NaN</td>\n",
       "    </tr>\n",
       "    <tr>\n",
       "      <th>2</th>\n",
       "      <td>US1WAKG0225</td>\n",
       "      <td>SEATTLE 2.1 ESE, WA US</td>\n",
       "      <td>1/3/18</td>\n",
       "      <td>NaN</td>\n",
       "      <td>NaN</td>\n",
       "      <td>0.00</td>\n",
       "      <td>NaN</td>\n",
       "      <td>NaN</td>\n",
       "      <td>NaN</td>\n",
       "      <td>NaN</td>\n",
       "    </tr>\n",
       "    <tr>\n",
       "      <th>3</th>\n",
       "      <td>US1WAKG0225</td>\n",
       "      <td>SEATTLE 2.1 ESE, WA US</td>\n",
       "      <td>1/4/18</td>\n",
       "      <td>NaN</td>\n",
       "      <td>NaN</td>\n",
       "      <td>0.00</td>\n",
       "      <td>NaN</td>\n",
       "      <td>NaN</td>\n",
       "      <td>NaN</td>\n",
       "      <td>NaN</td>\n",
       "    </tr>\n",
       "    <tr>\n",
       "      <th>4</th>\n",
       "      <td>US1WAKG0225</td>\n",
       "      <td>SEATTLE 2.1 ESE, WA US</td>\n",
       "      <td>1/5/18</td>\n",
       "      <td>NaN</td>\n",
       "      <td>NaN</td>\n",
       "      <td>0.25</td>\n",
       "      <td>NaN</td>\n",
       "      <td>NaN</td>\n",
       "      <td>NaN</td>\n",
       "      <td>NaN</td>\n",
       "    </tr>\n",
       "    <tr>\n",
       "      <th>5</th>\n",
       "      <td>US1WAKG0225</td>\n",
       "      <td>SEATTLE 2.1 ESE, WA US</td>\n",
       "      <td>1/6/18</td>\n",
       "      <td>NaN</td>\n",
       "      <td>NaN</td>\n",
       "      <td>0.57</td>\n",
       "      <td>NaN</td>\n",
       "      <td>NaN</td>\n",
       "      <td>NaN</td>\n",
       "      <td>NaN</td>\n",
       "    </tr>\n",
       "    <tr>\n",
       "      <th>6</th>\n",
       "      <td>US1WAKG0225</td>\n",
       "      <td>SEATTLE 2.1 ESE, WA US</td>\n",
       "      <td>1/7/18</td>\n",
       "      <td>NaN</td>\n",
       "      <td>NaN</td>\n",
       "      <td>0.23</td>\n",
       "      <td>NaN</td>\n",
       "      <td>NaN</td>\n",
       "      <td>NaN</td>\n",
       "      <td>NaN</td>\n",
       "    </tr>\n",
       "    <tr>\n",
       "      <th>7</th>\n",
       "      <td>US1WAKG0225</td>\n",
       "      <td>SEATTLE 2.1 ESE, WA US</td>\n",
       "      <td>1/8/18</td>\n",
       "      <td>NaN</td>\n",
       "      <td>NaN</td>\n",
       "      <td>0.41</td>\n",
       "      <td>NaN</td>\n",
       "      <td>NaN</td>\n",
       "      <td>NaN</td>\n",
       "      <td>NaN</td>\n",
       "    </tr>\n",
       "    <tr>\n",
       "      <th>8</th>\n",
       "      <td>US1WAKG0225</td>\n",
       "      <td>SEATTLE 2.1 ESE, WA US</td>\n",
       "      <td>3/12/18</td>\n",
       "      <td>NaN</td>\n",
       "      <td>NaN</td>\n",
       "      <td>0.00</td>\n",
       "      <td>NaN</td>\n",
       "      <td>NaN</td>\n",
       "      <td>NaN</td>\n",
       "      <td>NaN</td>\n",
       "    </tr>\n",
       "    <tr>\n",
       "      <th>9</th>\n",
       "      <td>US1WAKG0225</td>\n",
       "      <td>SEATTLE 2.1 ESE, WA US</td>\n",
       "      <td>3/13/18</td>\n",
       "      <td>NaN</td>\n",
       "      <td>NaN</td>\n",
       "      <td>0.00</td>\n",
       "      <td>NaN</td>\n",
       "      <td>NaN</td>\n",
       "      <td>NaN</td>\n",
       "      <td>NaN</td>\n",
       "    </tr>\n",
       "  </tbody>\n",
       "</table>\n",
       "</div>"
      ],
      "text/plain": [
       "       STATION                    NAME     DATE  DAPR  MDPR  PRCP  SNOW  SNWD  \\\n",
       "0  US1WAKG0225  SEATTLE 2.1 ESE, WA US   1/1/18   NaN   NaN  0.00   NaN   NaN   \n",
       "1  US1WAKG0225  SEATTLE 2.1 ESE, WA US   1/2/18   NaN   NaN  0.00   NaN   NaN   \n",
       "2  US1WAKG0225  SEATTLE 2.1 ESE, WA US   1/3/18   NaN   NaN  0.00   NaN   NaN   \n",
       "3  US1WAKG0225  SEATTLE 2.1 ESE, WA US   1/4/18   NaN   NaN  0.00   NaN   NaN   \n",
       "4  US1WAKG0225  SEATTLE 2.1 ESE, WA US   1/5/18   NaN   NaN  0.25   NaN   NaN   \n",
       "5  US1WAKG0225  SEATTLE 2.1 ESE, WA US   1/6/18   NaN   NaN  0.57   NaN   NaN   \n",
       "6  US1WAKG0225  SEATTLE 2.1 ESE, WA US   1/7/18   NaN   NaN  0.23   NaN   NaN   \n",
       "7  US1WAKG0225  SEATTLE 2.1 ESE, WA US   1/8/18   NaN   NaN  0.41   NaN   NaN   \n",
       "8  US1WAKG0225  SEATTLE 2.1 ESE, WA US  3/12/18   NaN   NaN  0.00   NaN   NaN   \n",
       "9  US1WAKG0225  SEATTLE 2.1 ESE, WA US  3/13/18   NaN   NaN  0.00   NaN   NaN   \n",
       "\n",
       "   WESD  WESF  \n",
       "0   NaN   NaN  \n",
       "1   NaN   NaN  \n",
       "2   NaN   NaN  \n",
       "3   NaN   NaN  \n",
       "4   NaN   NaN  \n",
       "5   NaN   NaN  \n",
       "6   NaN   NaN  \n",
       "7   NaN   NaN  \n",
       "8   NaN   NaN  \n",
       "9   NaN   NaN  "
      ]
     },
     "execution_count": 5,
     "metadata": {},
     "output_type": "execute_result"
    }
   ],
   "source": [
    "df_seattle.head(10)"
   ]
  },
  {
   "cell_type": "markdown",
   "metadata": {
    "id": "El2gEjGnBtyy"
   },
   "source": [
    "##### Examine more rows"
   ]
  },
  {
   "cell_type": "markdown",
   "metadata": {
    "id": "B_fXWBr_KhR2"
   },
   "source": [
    "##### St. Louis data set"
   ]
  },
  {
   "cell_type": "markdown",
   "metadata": {
    "id": "7zDNxnE9LRF4"
   },
   "source": [
    "##### Are the columns are the same?"
   ]
  },
  {
   "cell_type": "code",
   "execution_count": 6,
   "metadata": {},
   "outputs": [
    {
     "data": {
      "text/plain": [
       "Index(['STATION', 'NAME', 'DATE', 'DAPR', 'MDPR', 'PRCP', 'SNOW', 'SNWD',\n",
       "       'WESD', 'WESF'],\n",
       "      dtype='object')"
      ]
     },
     "execution_count": 6,
     "metadata": {},
     "output_type": "execute_result"
    }
   ],
   "source": [
    "df_seattle.columns"
   ]
  },
  {
   "cell_type": "code",
   "execution_count": 7,
   "metadata": {},
   "outputs": [
    {
     "data": {
      "text/plain": [
       "Index(['STATION', 'NAME', 'DATE', 'DAPR', 'MDPR', 'PRCP', 'SNOW', 'SNWD'], dtype='object')"
      ]
     },
     "execution_count": 7,
     "metadata": {},
     "output_type": "execute_result"
    }
   ],
   "source": [
    "df_stl.columns"
   ]
  },
  {
   "cell_type": "markdown",
   "metadata": {
    "id": "e0IEtgl8eRkv"
   },
   "source": [
    "##### Use the `info` method to check the data types, size of the data frame, and numbers of missing values."
   ]
  },
  {
   "cell_type": "code",
   "execution_count": 8,
   "metadata": {},
   "outputs": [
    {
     "name": "stdout",
     "output_type": "stream",
     "text": [
      "<class 'pandas.core.frame.DataFrame'>\n",
      "RangeIndex: 1658 entries, 0 to 1657\n",
      "Data columns (total 10 columns):\n",
      " #   Column   Non-Null Count  Dtype  \n",
      "---  ------   --------------  -----  \n",
      " 0   STATION  1658 non-null   object \n",
      " 1   NAME     1658 non-null   object \n",
      " 2   DATE     1658 non-null   object \n",
      " 3   DAPR     23 non-null     float64\n",
      " 4   MDPR     23 non-null     float64\n",
      " 5   PRCP     1636 non-null   float64\n",
      " 6   SNOW     353 non-null    float64\n",
      " 7   SNWD     66 non-null     float64\n",
      " 8   WESD     15 non-null     float64\n",
      " 9   WESF     28 non-null     float64\n",
      "dtypes: float64(7), object(3)\n",
      "memory usage: 129.7+ KB\n"
     ]
    }
   ],
   "source": [
    "df_seattle.info()"
   ]
  },
  {
   "cell_type": "code",
   "execution_count": 9,
   "metadata": {},
   "outputs": [
    {
     "name": "stdout",
     "output_type": "stream",
     "text": [
      "<class 'pandas.core.frame.DataFrame'>\n",
      "RangeIndex: 54574 entries, 0 to 54573\n",
      "Data columns (total 8 columns):\n",
      " #   Column   Non-Null Count  Dtype  \n",
      "---  ------   --------------  -----  \n",
      " 0   STATION  54574 non-null  object \n",
      " 1   NAME     54574 non-null  object \n",
      " 2   DATE     54574 non-null  object \n",
      " 3   DAPR     1166 non-null   float64\n",
      " 4   MDPR     1163 non-null   float64\n",
      " 5   PRCP     53143 non-null  float64\n",
      " 6   SNOW     33167 non-null  float64\n",
      " 7   SNWD     12835 non-null  float64\n",
      "dtypes: float64(5), object(3)\n",
      "memory usage: 3.3+ MB\n"
     ]
    }
   ],
   "source": [
    "df_stl.info()"
   ]
  },
  {
   "cell_type": "code",
   "execution_count": 10,
   "metadata": {},
   "outputs": [],
   "source": [
    "### based on the above, we have missing prcp values (53k is not 54k in STL and 1636 is not 1658 for seattle)\n",
    "## we can also see that the date is a string for seattle, not a date"
   ]
  },
  {
   "cell_type": "markdown",
   "metadata": {
    "id": "RxbRRmQRMYZd"
   },
   "source": [
    "##### We can also compare data frame sizes using the shape attribute"
   ]
  },
  {
   "cell_type": "code",
   "execution_count": 11,
   "metadata": {},
   "outputs": [
    {
     "name": "stdout",
     "output_type": "stream",
     "text": [
      "the shape for df_seattle is (1658, 10) and the shape for df_stl is (54574, 8)\n"
     ]
    }
   ],
   "source": [
    "seattle_shape = df_seattle.shape\n",
    "stl_shape = df_stl.shape\n",
    "\n",
    "print(f\"the shape for df_seattle is {seattle_shape} and the shape for df_stl is {stl_shape}\")"
   ]
  },
  {
   "cell_type": "markdown",
   "metadata": {
    "id": "Oa64TsxsL9aF"
   },
   "source": [
    "## Why might the St. Louis data set be larger?"
   ]
  },
  {
   "cell_type": "markdown",
   "metadata": {
    "id": "qYE9-4tcL_z-"
   },
   "source": [
    "<pre> longer date range than seattle, more stations\n",
    "\n",
    "\n",
    "\n",
    "\n",
    "\n",
    "\n",
    "\n",
    "\n",
    "\n",
    "\n",
    "\n",
    "\n",
    "\n",
    "\n",
    "\n",
    "\n",
    "\n",
    "\n",
    "\n",
    "\n",
    "\n",
    "\n",
    "\n",
    "\n",
    "\n",
    "\n",
    "\n",
    "\n",
    "\n",
    "\n",
    "\n",
    "</pre>"
   ]
  },
  {
   "cell_type": "markdown",
   "metadata": {
    "id": "wLtJTlMLMthz"
   },
   "source": [
    "#### Examine the `STATION` column"
   ]
  },
  {
   "cell_type": "markdown",
   "metadata": {
    "id": "T5cUb34RM4Ky"
   },
   "source": [
    "##### How many unique stations are present?"
   ]
  },
  {
   "cell_type": "code",
   "execution_count": 12,
   "metadata": {},
   "outputs": [
    {
     "data": {
      "text/plain": [
       "0        US1MOSS0027\n",
       "1        US1MOSS0027\n",
       "2        US1MOSS0027\n",
       "3        US1MOSS0027\n",
       "4        US1MOSS0027\n",
       "            ...     \n",
       "54569    US1MOSL0084\n",
       "54570    US1MOSL0084\n",
       "54571    US1MOSL0084\n",
       "54572    US1MOSL0084\n",
       "54573    US1MOSL0084\n",
       "Name: STATION, Length: 54574, dtype: object"
      ]
     },
     "execution_count": 12,
     "metadata": {},
     "output_type": "execute_result"
    }
   ],
   "source": [
    "df_stl['STATION']\n",
    "# IN JUST PRINTING THIS WE SEE MULITPLE STATIONS"
   ]
  },
  {
   "cell_type": "code",
   "execution_count": 13,
   "metadata": {
    "scrolled": true
   },
   "outputs": [
    {
     "data": {
      "text/plain": [
       "array(['US1MOSS0027', 'US1MOSL0019', 'US1MOSL0018', 'US1MOSL0039',\n",
       "       'US1MOSLC010', 'US1ILSC0009', 'US1MOSL0050', 'US1MOJF0018',\n",
       "       'US1MOSL0070', 'US1MOSL0092', 'US1MOSL0079', 'US1MOSL0056',\n",
       "       'US1MOSL0055', 'US1MOSL0077', 'US1ILMD0047', 'US1MOSL0054',\n",
       "       'US1MOSL0076', 'US1MOSL0074', 'US1MOSLC007', 'US1MOFSA189',\n",
       "       'US1MOSL0027', 'US1MOSL0049', 'US1MOSL0004', 'USC00237397',\n",
       "       'USC00237452', 'USC00237398', 'US1ILSC0018', 'US1MOSS0034',\n",
       "       'USW00003960', 'US1MOSL0083', 'US1ILMO0006', 'US1MOSL0081',\n",
       "       'US1MOJF0025', 'US1MOSS0051', 'US1ILMD0010', 'US1MOSL0024',\n",
       "       'US1MOSL0045', 'US1MOSL0067', 'US1MOSL0020', 'US1ILMD0012',\n",
       "       'US1MOSL0063', 'USW00013994', 'US1MOSL0062', 'US1MOSL0084'],\n",
       "      dtype=object)"
      ]
     },
     "execution_count": 13,
     "metadata": {},
     "output_type": "execute_result"
    }
   ],
   "source": [
    "df_stl['STATION'].unique()\n",
    "## this gives me all of the columns that show up, tells you the actual unique values"
   ]
  },
  {
   "cell_type": "code",
   "execution_count": 14,
   "metadata": {},
   "outputs": [
    {
     "data": {
      "text/plain": [
       "44"
      ]
     },
     "execution_count": 14,
     "metadata": {},
     "output_type": "execute_result"
    }
   ],
   "source": [
    "df_stl['STATION'].nunique()\n",
    "## this tells you the number of unique stations, note that even though this feels like an attribute of the data, it's a method because??\n",
    "## "
   ]
  },
  {
   "cell_type": "markdown",
   "metadata": {
    "id": "w0-RCjYSNSrt"
   },
   "source": [
    "#### Examine the `DATE` column"
   ]
  },
  {
   "cell_type": "code",
   "execution_count": 15,
   "metadata": {},
   "outputs": [
    {
     "data": {
      "text/plain": [
       "0        2017-01-01\n",
       "1        2017-01-03\n",
       "2        2017-01-04\n",
       "3        2017-01-05\n",
       "4        2017-01-06\n",
       "            ...    \n",
       "54569    2022-12-08\n",
       "54570    2022-12-13\n",
       "54571    2022-12-14\n",
       "54572    2022-12-15\n",
       "54573    2022-12-16\n",
       "Name: DATE, Length: 54574, dtype: object"
      ]
     },
     "execution_count": 15,
     "metadata": {},
     "output_type": "execute_result"
    }
   ],
   "source": [
    "df_stl['DATE']\n",
    "## too many dates, needed 1/1/18 to be the minimum value"
   ]
  },
  {
   "cell_type": "markdown",
   "metadata": {
    "id": "m2ifRKAEN0pX"
   },
   "source": [
    "### Be careful to use correct data types"
   ]
  },
  {
   "cell_type": "code",
   "execution_count": 16,
   "metadata": {},
   "outputs": [
    {
     "data": {
      "text/plain": [
       "'9/9/22'"
      ]
     },
     "execution_count": 16,
     "metadata": {},
     "output_type": "execute_result"
    }
   ],
   "source": [
    "df_seattle['DATE'].max()\n",
    "## this is not the most recent date, because this isn't currently set to be a date"
   ]
  },
  {
   "cell_type": "code",
   "execution_count": 17,
   "metadata": {},
   "outputs": [
    {
     "data": {
      "text/plain": [
       "1653    12/27/22\n",
       "1654    12/28/22\n",
       "1655    12/29/22\n",
       "1656    12/30/22\n",
       "1657    12/31/22\n",
       "Name: DATE, dtype: object"
      ]
     },
     "execution_count": 17,
     "metadata": {},
     "output_type": "execute_result"
    }
   ],
   "source": [
    "df_seattle['DATE'].tail()\n",
    "## same issue with the tail, 12 is ranking 'smaller' than '9'"
   ]
  },
  {
   "cell_type": "markdown",
   "metadata": {
    "id": "9xo4fNHiNoID"
   },
   "source": [
    "### Convert `DATE` to datetime"
   ]
  },
  {
   "cell_type": "code",
   "execution_count": 18,
   "metadata": {},
   "outputs": [],
   "source": [
    "df_seattle['DATE'] = pd.to_datetime(df_seattle['DATE'])"
   ]
  },
  {
   "cell_type": "code",
   "execution_count": 19,
   "metadata": {},
   "outputs": [],
   "source": [
    "df_stl['DATE'] = pd.to_datetime(df_stl['DATE'])"
   ]
  },
  {
   "cell_type": "code",
   "execution_count": 20,
   "metadata": {
    "scrolled": true
   },
   "outputs": [
    {
     "data": {
      "text/plain": [
       "0      2018-01-01\n",
       "1      2018-01-02\n",
       "2      2018-01-03\n",
       "3      2018-01-04\n",
       "4      2018-01-05\n",
       "          ...    \n",
       "1653   2022-12-27\n",
       "1654   2022-12-28\n",
       "1655   2022-12-29\n",
       "1656   2022-12-30\n",
       "1657   2022-12-31\n",
       "Name: DATE, Length: 1658, dtype: datetime64[ns]"
      ]
     },
     "execution_count": 20,
     "metadata": {},
     "output_type": "execute_result"
    }
   ],
   "source": [
    "df_seattle['DATE']"
   ]
  },
  {
   "cell_type": "markdown",
   "metadata": {
    "id": "ynybUlKfQNFq"
   },
   "source": [
    "### What range of dates are present?"
   ]
  },
  {
   "cell_type": "code",
   "execution_count": 21,
   "metadata": {},
   "outputs": [
    {
     "name": "stdout",
     "output_type": "stream",
     "text": [
      "the max and min of seattle dates are now:\n",
      "2022-12-31 00:00:00\n",
      "2018-01-01 00:00:00\n"
     ]
    }
   ],
   "source": [
    "print(\"the max and min of seattle dates are now:\")\n",
    "print(df_seattle['DATE'].max())\n",
    "print(df_seattle['DATE'].min())"
   ]
  },
  {
   "cell_type": "code",
   "execution_count": 22,
   "metadata": {},
   "outputs": [
    {
     "data": {
      "text/plain": [
       "min   2018-01-01\n",
       "max   2022-12-31\n",
       "Name: DATE, dtype: datetime64[ns]"
      ]
     },
     "execution_count": 22,
     "metadata": {},
     "output_type": "execute_result"
    }
   ],
   "source": [
    "df_seattle['DATE'].agg(['min','max'])"
   ]
  },
  {
   "cell_type": "markdown",
   "metadata": {
    "id": "UCVBxFyURV9L"
   },
   "source": [
    "### Are the data suitable for answering the question?"
   ]
  },
  {
   "cell_type": "markdown",
   "metadata": {
    "id": "nwO8wa426gF8"
   },
   "source": [
    "Plot the daily precipitation data for Seattle."
   ]
  },
  {
   "cell_type": "code",
   "execution_count": 23,
   "metadata": {},
   "outputs": [
    {
     "data": {
      "image/png": "[encoded data removed]",
      "text/plain": [
       "<Figure size 1440x360 with 1 Axes>"
      ]
     },
     "metadata": {},
     "output_type": "display_data"
    }
   ],
   "source": [
    "plt.figure(figsize=(20,5))\n",
    "\n",
    "## seaborn wants to know what the data source is, then what two columns of it we're using as x and y\n",
    "sns.lineplot(data=df_seattle,x='DATE',y='PRCP')\n",
    "\n",
    "# we use matplotlib to add some extra description like the label of each to the figure\n",
    "plt.title('Seattle Rain 2018-2022', fontsize=20)\n",
    "plt.xlabel('Date',fontsize=18)\n",
    "plt.ylabel('Precipitation (in)', fontsize=18)\n",
    "\n",
    "plt.tick_params(labelsize=15)\n",
    "\n",
    "plt.show()\n",
    "## do you see how the line chart connects the the gap in early 2018? there's missing data and so the line jumps from close to .5 to 0"
   ]
  },
  {
   "cell_type": "markdown",
   "metadata": {
    "id": "09DgwEWbSLod"
   },
   "source": [
    "##### Plot the daily precipitation data for St. Louis."
   ]
  },
  {
   "cell_type": "code",
   "execution_count": 24,
   "metadata": {},
   "outputs": [
    {
     "data": {
      "image/png": "[encoded data removed]",
      "text/plain": [
       "<Figure size 1440x360 with 1 Axes>"
      ]
     },
     "metadata": {},
     "output_type": "display_data"
    }
   ],
   "source": [
    "plt.figure(figsize=(20,5))\n",
    "\n",
    "## seaborn wants to know what the data source is, then what two columns of it we're using as x and y\n",
    "sns.lineplot(data=df_stl,x='DATE',y='PRCP')\n",
    "\n",
    "# we use matplotlib to add some extra description like the label of each to the figure\n",
    "plt.title('St Louis Rain 2018-2022', fontsize=20)\n",
    "plt.xlabel('Date',fontsize=18)\n",
    "plt.ylabel('Precipitation (in)', fontsize=18)\n",
    "\n",
    "plt.tick_params(labelsize=15)\n",
    "\n",
    "plt.show()"
   ]
  },
  {
   "cell_type": "markdown",
   "metadata": {
    "id": "tNt9nJ6u9Et8"
   },
   "source": [
    "## Tutorial: Selecting subsets of a DataFrame"
   ]
  },
  {
   "cell_type": "code",
   "execution_count": 25,
   "metadata": {
    "id": "Hu6SS5fd9H_h"
   },
   "outputs": [
    {
     "data": {
      "text/html": [
       "<div>\n",
       "<style scoped>\n",
       "    .dataframe tbody tr th:only-of-type {\n",
       "        vertical-align: middle;\n",
       "    }\n",
       "\n",
       "    .dataframe tbody tr th {\n",
       "        vertical-align: top;\n",
       "    }\n",
       "\n",
       "    .dataframe thead th {\n",
       "        text-align: right;\n",
       "    }\n",
       "</style>\n",
       "<table border=\"1\" class=\"dataframe\">\n",
       "  <thead>\n",
       "    <tr style=\"text-align: right;\">\n",
       "      <th></th>\n",
       "      <th>STATION</th>\n",
       "      <th>NAME</th>\n",
       "      <th>DATE</th>\n",
       "      <th>DAPR</th>\n",
       "      <th>MDPR</th>\n",
       "      <th>PRCP</th>\n",
       "      <th>SNOW</th>\n",
       "      <th>SNWD</th>\n",
       "      <th>WESD</th>\n",
       "      <th>WESF</th>\n",
       "    </tr>\n",
       "  </thead>\n",
       "  <tbody>\n",
       "    <tr>\n",
       "      <th>0</th>\n",
       "      <td>US1WAKG0225</td>\n",
       "      <td>SEATTLE 2.1 ESE, WA US</td>\n",
       "      <td>2018-01-01</td>\n",
       "      <td>NaN</td>\n",
       "      <td>NaN</td>\n",
       "      <td>0.00</td>\n",
       "      <td>NaN</td>\n",
       "      <td>NaN</td>\n",
       "      <td>NaN</td>\n",
       "      <td>NaN</td>\n",
       "    </tr>\n",
       "    <tr>\n",
       "      <th>1</th>\n",
       "      <td>US1WAKG0225</td>\n",
       "      <td>SEATTLE 2.1 ESE, WA US</td>\n",
       "      <td>2018-01-02</td>\n",
       "      <td>NaN</td>\n",
       "      <td>NaN</td>\n",
       "      <td>0.00</td>\n",
       "      <td>NaN</td>\n",
       "      <td>NaN</td>\n",
       "      <td>NaN</td>\n",
       "      <td>NaN</td>\n",
       "    </tr>\n",
       "    <tr>\n",
       "      <th>2</th>\n",
       "      <td>US1WAKG0225</td>\n",
       "      <td>SEATTLE 2.1 ESE, WA US</td>\n",
       "      <td>2018-01-03</td>\n",
       "      <td>NaN</td>\n",
       "      <td>NaN</td>\n",
       "      <td>0.00</td>\n",
       "      <td>NaN</td>\n",
       "      <td>NaN</td>\n",
       "      <td>NaN</td>\n",
       "      <td>NaN</td>\n",
       "    </tr>\n",
       "    <tr>\n",
       "      <th>3</th>\n",
       "      <td>US1WAKG0225</td>\n",
       "      <td>SEATTLE 2.1 ESE, WA US</td>\n",
       "      <td>2018-01-04</td>\n",
       "      <td>NaN</td>\n",
       "      <td>NaN</td>\n",
       "      <td>0.00</td>\n",
       "      <td>NaN</td>\n",
       "      <td>NaN</td>\n",
       "      <td>NaN</td>\n",
       "      <td>NaN</td>\n",
       "    </tr>\n",
       "    <tr>\n",
       "      <th>4</th>\n",
       "      <td>US1WAKG0225</td>\n",
       "      <td>SEATTLE 2.1 ESE, WA US</td>\n",
       "      <td>2018-01-05</td>\n",
       "      <td>NaN</td>\n",
       "      <td>NaN</td>\n",
       "      <td>0.25</td>\n",
       "      <td>NaN</td>\n",
       "      <td>NaN</td>\n",
       "      <td>NaN</td>\n",
       "      <td>NaN</td>\n",
       "    </tr>\n",
       "  </tbody>\n",
       "</table>\n",
       "</div>"
      ],
      "text/plain": [
       "       STATION                    NAME       DATE  DAPR  MDPR  PRCP  SNOW  \\\n",
       "0  US1WAKG0225  SEATTLE 2.1 ESE, WA US 2018-01-01   NaN   NaN  0.00   NaN   \n",
       "1  US1WAKG0225  SEATTLE 2.1 ESE, WA US 2018-01-02   NaN   NaN  0.00   NaN   \n",
       "2  US1WAKG0225  SEATTLE 2.1 ESE, WA US 2018-01-03   NaN   NaN  0.00   NaN   \n",
       "3  US1WAKG0225  SEATTLE 2.1 ESE, WA US 2018-01-04   NaN   NaN  0.00   NaN   \n",
       "4  US1WAKG0225  SEATTLE 2.1 ESE, WA US 2018-01-05   NaN   NaN  0.25   NaN   \n",
       "\n",
       "   SNWD  WESD  WESF  \n",
       "0   NaN   NaN   NaN  \n",
       "1   NaN   NaN   NaN  \n",
       "2   NaN   NaN   NaN  \n",
       "3   NaN   NaN   NaN  \n",
       "4   NaN   NaN   NaN  "
      ]
     },
     "execution_count": 25,
     "metadata": {},
     "output_type": "execute_result"
    }
   ],
   "source": [
    "df_seattle.head()"
   ]
  },
  {
   "cell_type": "markdown",
   "metadata": {
    "id": "DpHQyUxj2-AT"
   },
   "source": [
    "### Select one column"
   ]
  },
  {
   "cell_type": "markdown",
   "metadata": {
    "id": "lzCQvte_zCCR"
   },
   "source": [
    "Select the column containing precipitation `PRCP`."
   ]
  },
  {
   "cell_type": "markdown",
   "metadata": {
    "id": "uy5nfFEV5vhq"
   },
   "source": [
    "#### Use dictionary-style indexing"
   ]
  },
  {
   "cell_type": "markdown",
   "metadata": {
    "id": "BaVDnTNSye-b"
   },
   "source": [
    "#### Use explicit array-style indexing with loc"
   ]
  },
  {
   "cell_type": "markdown",
   "metadata": {
    "id": "FcZ0LVCq-EiA"
   },
   "source": [
    "#### Use implicit array-style indexing with `.iloc`"
   ]
  },
  {
   "cell_type": "markdown",
   "metadata": {
    "id": "h47_k_c1-G6F"
   },
   "source": [
    "What number column, starting with 0, is `PRCP`?"
   ]
  },
  {
   "cell_type": "code",
   "execution_count": null,
   "metadata": {
    "id": "xyAgMjtt-E_9"
   },
   "outputs": [],
   "source": [
    "df_seattle.head()"
   ]
  },
  {
   "cell_type": "markdown",
   "metadata": {
    "id": "C-8eE8X-UWGG"
   },
   "source": [
    "##### Use implicit array-style indexing with `.iloc`"
   ]
  },
  {
   "cell_type": "markdown",
   "metadata": {
    "id": "bZ33GRss-aHB"
   },
   "source": [
    "### Select multiple columns"
   ]
  },
  {
   "cell_type": "markdown",
   "metadata": {
    "id": "AHcoqO2Z-f8I"
   },
   "source": [
    "Select the columns containing `STATION`, `DATE`, and precipitation `PRCP`."
   ]
  },
  {
   "cell_type": "markdown",
   "metadata": {
    "id": "m666RYW2UgSd"
   },
   "source": [
    "##### Use .loc"
   ]
  },
  {
   "cell_type": "markdown",
   "metadata": {
    "id": "D8bEkCX1UkFs"
   },
   "source": [
    "##### Use .iloc"
   ]
  },
  {
   "cell_type": "markdown",
   "metadata": {
    "id": "gLcEXsWnXzrF"
   },
   "source": [
    "#### Select a range of columns"
   ]
  },
  {
   "cell_type": "markdown",
   "metadata": {
    "id": "XD3EmZhN_AGu"
   },
   "source": [
    "Select all columns from `STATION` through `PRCP`"
   ]
  },
  {
   "cell_type": "markdown",
   "metadata": {
    "id": "LAR17TKQVF6z"
   },
   "source": [
    "##### Use .iloc"
   ]
  },
  {
   "cell_type": "markdown",
   "metadata": {
    "id": "KHme4XUXdIBa"
   },
   "source": [
    "### Select the first $n$ rows"
   ]
  },
  {
   "cell_type": "markdown",
   "metadata": {
    "id": "U7T3l6Py_cuz"
   },
   "source": [
    "Select the first 3 rows"
   ]
  },
  {
   "cell_type": "markdown",
   "metadata": {
    "id": "YhskQB9oe-ce"
   },
   "source": [
    "Use the `.head()` method"
   ]
  },
  {
   "cell_type": "markdown",
   "metadata": {
    "id": "a0btb4nKZQnS"
   },
   "source": [
    "##### Use explicit indexing"
   ]
  },
  {
   "cell_type": "markdown",
   "metadata": {
    "id": "Wcuf0QrhZR49"
   },
   "source": [
    "##### Use implicit indexing"
   ]
  },
  {
   "cell_type": "markdown",
   "metadata": {
    "id": "KtVTDD7rpQrF"
   },
   "source": [
    "### Select the last $n$ rows"
   ]
  },
  {
   "cell_type": "markdown",
   "metadata": {
    "id": "WJ0TD2nOpQrO"
   },
   "source": [
    "Use the `.tail()` method"
   ]
  },
  {
   "cell_type": "markdown",
   "metadata": {
    "id": "Ww_y64wFpQrR"
   },
   "source": [
    "##### Use explicit indexing"
   ]
  },
  {
   "cell_type": "markdown",
   "metadata": {
    "id": "yvpePT8-pQrQ"
   },
   "source": [
    "##### Use implicit indexing"
   ]
  },
  {
   "cell_type": "markdown",
   "metadata": {
    "id": "vjQwc6U2eudp"
   },
   "source": [
    "### Select rows using logical indexing"
   ]
  },
  {
   "cell_type": "markdown",
   "metadata": {
    "id": "6gW-YJnnyQiT"
   },
   "source": [
    "Select the rows where `PRCP` is greater than 0."
   ]
  },
  {
   "cell_type": "markdown",
   "metadata": {
    "id": "8KtJZKYyp8CH"
   },
   "source": [
    "##### Select the rows where the precipitation is between 0.5 and 0.75 inches."
   ]
  },
  {
   "cell_type": "markdown",
   "metadata": {
    "id": "krX-By1ZBa4R"
   },
   "source": [
    "## Select relevant subsets of the data"
   ]
  },
  {
   "cell_type": "markdown",
   "metadata": {
    "id": "7VVOuonocRqK"
   },
   "source": [
    "We saw that the St. Louis data set contains data prior to 2018."
   ]
  },
  {
   "cell_type": "code",
   "execution_count": null,
   "metadata": {
    "id": "MImmswQEqDQL"
   },
   "outputs": [],
   "source": [
    "df_stl.head()"
   ]
  },
  {
   "cell_type": "markdown",
   "metadata": {
    "id": "XcKpBqUpqaYA"
   },
   "source": [
    "##### Limit the St. Louis data to 2018 and beyond."
   ]
  },
  {
   "cell_type": "code",
   "execution_count": 26,
   "metadata": {},
   "outputs": [
    {
     "data": {
      "text/html": [
       "<div>\n",
       "<style scoped>\n",
       "    .dataframe tbody tr th:only-of-type {\n",
       "        vertical-align: middle;\n",
       "    }\n",
       "\n",
       "    .dataframe tbody tr th {\n",
       "        vertical-align: top;\n",
       "    }\n",
       "\n",
       "    .dataframe thead th {\n",
       "        text-align: right;\n",
       "    }\n",
       "</style>\n",
       "<table border=\"1\" class=\"dataframe\">\n",
       "  <thead>\n",
       "    <tr style=\"text-align: right;\">\n",
       "      <th></th>\n",
       "      <th>STATION</th>\n",
       "      <th>NAME</th>\n",
       "      <th>DATE</th>\n",
       "      <th>DAPR</th>\n",
       "      <th>MDPR</th>\n",
       "      <th>PRCP</th>\n",
       "      <th>SNOW</th>\n",
       "      <th>SNWD</th>\n",
       "    </tr>\n",
       "  </thead>\n",
       "  <tbody>\n",
       "    <tr>\n",
       "      <th>241</th>\n",
       "      <td>US1MOSS0027</td>\n",
       "      <td>ST. CHARLES 2.3 NE, MO US</td>\n",
       "      <td>2018-01-05</td>\n",
       "      <td>NaN</td>\n",
       "      <td>NaN</td>\n",
       "      <td>0.00</td>\n",
       "      <td>0.2</td>\n",
       "      <td>1.0</td>\n",
       "    </tr>\n",
       "    <tr>\n",
       "      <th>242</th>\n",
       "      <td>US1MOSS0027</td>\n",
       "      <td>ST. CHARLES 2.3 NE, MO US</td>\n",
       "      <td>2018-01-08</td>\n",
       "      <td>NaN</td>\n",
       "      <td>NaN</td>\n",
       "      <td>0.24</td>\n",
       "      <td>NaN</td>\n",
       "      <td>NaN</td>\n",
       "    </tr>\n",
       "    <tr>\n",
       "      <th>243</th>\n",
       "      <td>US1MOSS0027</td>\n",
       "      <td>ST. CHARLES 2.3 NE, MO US</td>\n",
       "      <td>2018-01-10</td>\n",
       "      <td>NaN</td>\n",
       "      <td>NaN</td>\n",
       "      <td>0.00</td>\n",
       "      <td>NaN</td>\n",
       "      <td>NaN</td>\n",
       "    </tr>\n",
       "    <tr>\n",
       "      <th>244</th>\n",
       "      <td>US1MOSS0027</td>\n",
       "      <td>ST. CHARLES 2.3 NE, MO US</td>\n",
       "      <td>2018-01-11</td>\n",
       "      <td>NaN</td>\n",
       "      <td>NaN</td>\n",
       "      <td>0.02</td>\n",
       "      <td>NaN</td>\n",
       "      <td>NaN</td>\n",
       "    </tr>\n",
       "    <tr>\n",
       "      <th>245</th>\n",
       "      <td>US1MOSS0027</td>\n",
       "      <td>ST. CHARLES 2.3 NE, MO US</td>\n",
       "      <td>2018-01-15</td>\n",
       "      <td>NaN</td>\n",
       "      <td>NaN</td>\n",
       "      <td>0.05</td>\n",
       "      <td>0.5</td>\n",
       "      <td>NaN</td>\n",
       "    </tr>\n",
       "  </tbody>\n",
       "</table>\n",
       "</div>"
      ],
      "text/plain": [
       "         STATION                       NAME       DATE  DAPR  MDPR  PRCP  \\\n",
       "241  US1MOSS0027  ST. CHARLES 2.3 NE, MO US 2018-01-05   NaN   NaN  0.00   \n",
       "242  US1MOSS0027  ST. CHARLES 2.3 NE, MO US 2018-01-08   NaN   NaN  0.24   \n",
       "243  US1MOSS0027  ST. CHARLES 2.3 NE, MO US 2018-01-10   NaN   NaN  0.00   \n",
       "244  US1MOSS0027  ST. CHARLES 2.3 NE, MO US 2018-01-11   NaN   NaN  0.02   \n",
       "245  US1MOSS0027  ST. CHARLES 2.3 NE, MO US 2018-01-15   NaN   NaN  0.05   \n",
       "\n",
       "     SNOW  SNWD  \n",
       "241   0.2   1.0  \n",
       "242   NaN   NaN  \n",
       "243   NaN   NaN  \n",
       "244   NaN   NaN  \n",
       "245   0.5   NaN  "
      ]
     },
     "execution_count": 26,
     "metadata": {},
     "output_type": "execute_result"
    }
   ],
   "source": [
    "## logical indexing! .loc\n",
    "\n",
    "# reassign df with the df we create when we filter for dates >= 1/1/2018\n",
    "df_stl = df_stl.loc[df_stl['DATE']>= '2018-01-01']\n",
    "df_stl.head()"
   ]
  },
  {
   "cell_type": "markdown",
   "metadata": {
    "id": "5zExx7BE1ANz"
   },
   "source": [
    "##### The St. Louis data set has values for many weather stations, while the Seattle data set has only one weather station.\n",
    "\n",
    "We will focus on the data from the airport in St. Louis."
   ]
  },
  {
   "cell_type": "code",
   "execution_count": 27,
   "metadata": {},
   "outputs": [
    {
     "data": {
      "text/html": [
       "<div>\n",
       "<style scoped>\n",
       "    .dataframe tbody tr th:only-of-type {\n",
       "        vertical-align: middle;\n",
       "    }\n",
       "\n",
       "    .dataframe tbody tr th {\n",
       "        vertical-align: top;\n",
       "    }\n",
       "\n",
       "    .dataframe thead th {\n",
       "        text-align: right;\n",
       "    }\n",
       "</style>\n",
       "<table border=\"1\" class=\"dataframe\">\n",
       "  <thead>\n",
       "    <tr style=\"text-align: right;\">\n",
       "      <th></th>\n",
       "      <th>STATION</th>\n",
       "      <th>NAME</th>\n",
       "      <th>DATE</th>\n",
       "      <th>DAPR</th>\n",
       "      <th>MDPR</th>\n",
       "      <th>PRCP</th>\n",
       "      <th>SNOW</th>\n",
       "      <th>SNWD</th>\n",
       "    </tr>\n",
       "  </thead>\n",
       "  <tbody>\n",
       "    <tr>\n",
       "      <th>51540</th>\n",
       "      <td>USW00013994</td>\n",
       "      <td>ST LOUIS LAMBERT INTERNATIONAL AIRPORT, MO US</td>\n",
       "      <td>2018-01-01</td>\n",
       "      <td>NaN</td>\n",
       "      <td>NaN</td>\n",
       "      <td>0.0</td>\n",
       "      <td>0.0</td>\n",
       "      <td>0.0</td>\n",
       "    </tr>\n",
       "    <tr>\n",
       "      <th>51541</th>\n",
       "      <td>USW00013994</td>\n",
       "      <td>ST LOUIS LAMBERT INTERNATIONAL AIRPORT, MO US</td>\n",
       "      <td>2018-01-02</td>\n",
       "      <td>NaN</td>\n",
       "      <td>NaN</td>\n",
       "      <td>0.0</td>\n",
       "      <td>0.0</td>\n",
       "      <td>0.0</td>\n",
       "    </tr>\n",
       "    <tr>\n",
       "      <th>51542</th>\n",
       "      <td>USW00013994</td>\n",
       "      <td>ST LOUIS LAMBERT INTERNATIONAL AIRPORT, MO US</td>\n",
       "      <td>2018-01-03</td>\n",
       "      <td>NaN</td>\n",
       "      <td>NaN</td>\n",
       "      <td>0.0</td>\n",
       "      <td>0.0</td>\n",
       "      <td>0.0</td>\n",
       "    </tr>\n",
       "    <tr>\n",
       "      <th>51543</th>\n",
       "      <td>USW00013994</td>\n",
       "      <td>ST LOUIS LAMBERT INTERNATIONAL AIRPORT, MO US</td>\n",
       "      <td>2018-01-04</td>\n",
       "      <td>NaN</td>\n",
       "      <td>NaN</td>\n",
       "      <td>0.0</td>\n",
       "      <td>0.2</td>\n",
       "      <td>0.0</td>\n",
       "    </tr>\n",
       "    <tr>\n",
       "      <th>51544</th>\n",
       "      <td>USW00013994</td>\n",
       "      <td>ST LOUIS LAMBERT INTERNATIONAL AIRPORT, MO US</td>\n",
       "      <td>2018-01-05</td>\n",
       "      <td>NaN</td>\n",
       "      <td>NaN</td>\n",
       "      <td>0.0</td>\n",
       "      <td>0.0</td>\n",
       "      <td>0.0</td>\n",
       "    </tr>\n",
       "  </tbody>\n",
       "</table>\n",
       "</div>"
      ],
      "text/plain": [
       "           STATION                                           NAME       DATE  \\\n",
       "51540  USW00013994  ST LOUIS LAMBERT INTERNATIONAL AIRPORT, MO US 2018-01-01   \n",
       "51541  USW00013994  ST LOUIS LAMBERT INTERNATIONAL AIRPORT, MO US 2018-01-02   \n",
       "51542  USW00013994  ST LOUIS LAMBERT INTERNATIONAL AIRPORT, MO US 2018-01-03   \n",
       "51543  USW00013994  ST LOUIS LAMBERT INTERNATIONAL AIRPORT, MO US 2018-01-04   \n",
       "51544  USW00013994  ST LOUIS LAMBERT INTERNATIONAL AIRPORT, MO US 2018-01-05   \n",
       "\n",
       "       DAPR  MDPR  PRCP  SNOW  SNWD  \n",
       "51540   NaN   NaN   0.0   0.0   0.0  \n",
       "51541   NaN   NaN   0.0   0.0   0.0  \n",
       "51542   NaN   NaN   0.0   0.0   0.0  \n",
       "51543   NaN   NaN   0.0   0.2   0.0  \n",
       "51544   NaN   NaN   0.0   0.0   0.0  "
      ]
     },
     "execution_count": 27,
     "metadata": {},
     "output_type": "execute_result"
    }
   ],
   "source": [
    "df_stl = df_stl.loc[df_stl['NAME'] == 'ST LOUIS LAMBERT INTERNATIONAL AIRPORT, MO US']\n",
    "df_stl.head()"
   ]
  },
  {
   "cell_type": "markdown",
   "metadata": {
    "id": "BkCnFJdVryvv"
   },
   "source": [
    "## Join data frames keeping `DATE` and `PRCP` columns"
   ]
  },
  {
   "cell_type": "code",
   "execution_count": 28,
   "metadata": {},
   "outputs": [],
   "source": [
    "## JOINING HELPS US CHECK IF SOME DATA IS MISSING IN ONE BUT NOT THE OTHER\n",
    "## BENEFICIAL TO NOT REPLACE AHEAD OF TIME, PUT TOGETHER AND SEE WHAT IS/IS NOT OMITTED, THEN CLEAN"
   ]
  },
  {
   "cell_type": "code",
   "execution_count": 29,
   "metadata": {
    "id": "5LOkkNFcX8kb"
   },
   "outputs": [
    {
     "data": {
      "text/html": [
       "<div>\n",
       "<style scoped>\n",
       "    .dataframe tbody tr th:only-of-type {\n",
       "        vertical-align: middle;\n",
       "    }\n",
       "\n",
       "    .dataframe tbody tr th {\n",
       "        vertical-align: top;\n",
       "    }\n",
       "\n",
       "    .dataframe thead th {\n",
       "        text-align: right;\n",
       "    }\n",
       "</style>\n",
       "<table border=\"1\" class=\"dataframe\">\n",
       "  <thead>\n",
       "    <tr style=\"text-align: right;\">\n",
       "      <th></th>\n",
       "      <th>STATION</th>\n",
       "      <th>NAME</th>\n",
       "      <th>DATE</th>\n",
       "      <th>DAPR</th>\n",
       "      <th>MDPR</th>\n",
       "      <th>PRCP</th>\n",
       "      <th>SNOW</th>\n",
       "      <th>SNWD</th>\n",
       "      <th>WESD</th>\n",
       "      <th>WESF</th>\n",
       "    </tr>\n",
       "  </thead>\n",
       "  <tbody>\n",
       "    <tr>\n",
       "      <th>0</th>\n",
       "      <td>US1WAKG0225</td>\n",
       "      <td>SEATTLE 2.1 ESE, WA US</td>\n",
       "      <td>2018-01-01</td>\n",
       "      <td>NaN</td>\n",
       "      <td>NaN</td>\n",
       "      <td>0.0</td>\n",
       "      <td>NaN</td>\n",
       "      <td>NaN</td>\n",
       "      <td>NaN</td>\n",
       "      <td>NaN</td>\n",
       "    </tr>\n",
       "    <tr>\n",
       "      <th>1</th>\n",
       "      <td>US1WAKG0225</td>\n",
       "      <td>SEATTLE 2.1 ESE, WA US</td>\n",
       "      <td>2018-01-02</td>\n",
       "      <td>NaN</td>\n",
       "      <td>NaN</td>\n",
       "      <td>0.0</td>\n",
       "      <td>NaN</td>\n",
       "      <td>NaN</td>\n",
       "      <td>NaN</td>\n",
       "      <td>NaN</td>\n",
       "    </tr>\n",
       "  </tbody>\n",
       "</table>\n",
       "</div>"
      ],
      "text/plain": [
       "       STATION                    NAME       DATE  DAPR  MDPR  PRCP  SNOW  \\\n",
       "0  US1WAKG0225  SEATTLE 2.1 ESE, WA US 2018-01-01   NaN   NaN   0.0   NaN   \n",
       "1  US1WAKG0225  SEATTLE 2.1 ESE, WA US 2018-01-02   NaN   NaN   0.0   NaN   \n",
       "\n",
       "   SNWD  WESD  WESF  \n",
       "0   NaN   NaN   NaN  \n",
       "1   NaN   NaN   NaN  "
      ]
     },
     "execution_count": 29,
     "metadata": {},
     "output_type": "execute_result"
    }
   ],
   "source": [
    "df_seattle.head(2)"
   ]
  },
  {
   "cell_type": "code",
   "execution_count": 31,
   "metadata": {
    "id": "QMqVks4fX58g"
   },
   "outputs": [
    {
     "data": {
      "text/html": [
       "<div>\n",
       "<style scoped>\n",
       "    .dataframe tbody tr th:only-of-type {\n",
       "        vertical-align: middle;\n",
       "    }\n",
       "\n",
       "    .dataframe tbody tr th {\n",
       "        vertical-align: top;\n",
       "    }\n",
       "\n",
       "    .dataframe thead th {\n",
       "        text-align: right;\n",
       "    }\n",
       "</style>\n",
       "<table border=\"1\" class=\"dataframe\">\n",
       "  <thead>\n",
       "    <tr style=\"text-align: right;\">\n",
       "      <th></th>\n",
       "      <th>STATION</th>\n",
       "      <th>NAME</th>\n",
       "      <th>DATE</th>\n",
       "      <th>DAPR</th>\n",
       "      <th>MDPR</th>\n",
       "      <th>PRCP</th>\n",
       "      <th>SNOW</th>\n",
       "      <th>SNWD</th>\n",
       "    </tr>\n",
       "  </thead>\n",
       "  <tbody>\n",
       "    <tr>\n",
       "      <th>51540</th>\n",
       "      <td>USW00013994</td>\n",
       "      <td>ST LOUIS LAMBERT INTERNATIONAL AIRPORT, MO US</td>\n",
       "      <td>2018-01-01</td>\n",
       "      <td>NaN</td>\n",
       "      <td>NaN</td>\n",
       "      <td>0.0</td>\n",
       "      <td>0.0</td>\n",
       "      <td>0.0</td>\n",
       "    </tr>\n",
       "    <tr>\n",
       "      <th>51541</th>\n",
       "      <td>USW00013994</td>\n",
       "      <td>ST LOUIS LAMBERT INTERNATIONAL AIRPORT, MO US</td>\n",
       "      <td>2018-01-02</td>\n",
       "      <td>NaN</td>\n",
       "      <td>NaN</td>\n",
       "      <td>0.0</td>\n",
       "      <td>0.0</td>\n",
       "      <td>0.0</td>\n",
       "    </tr>\n",
       "  </tbody>\n",
       "</table>\n",
       "</div>"
      ],
      "text/plain": [
       "           STATION                                           NAME       DATE  \\\n",
       "51540  USW00013994  ST LOUIS LAMBERT INTERNATIONAL AIRPORT, MO US 2018-01-01   \n",
       "51541  USW00013994  ST LOUIS LAMBERT INTERNATIONAL AIRPORT, MO US 2018-01-02   \n",
       "\n",
       "       DAPR  MDPR  PRCP  SNOW  SNWD  \n",
       "51540   NaN   NaN   0.0   0.0   0.0  \n",
       "51541   NaN   NaN   0.0   0.0   0.0  "
      ]
     },
     "execution_count": 31,
     "metadata": {},
     "output_type": "execute_result"
    }
   ],
   "source": [
    "df_stl.head(2)"
   ]
  },
  {
   "cell_type": "markdown",
   "metadata": {
    "id": "xdy2dKjrv0-d"
   },
   "source": [
    "**What type of join should we do?**"
   ]
  },
  {
   "cell_type": "code",
   "execution_count": null,
   "metadata": {},
   "outputs": [],
   "source": [
    "## outer join since an inner join would skip dates where both are missing, and we want all of the data for all of the dates"
   ]
  },
  {
   "cell_type": "markdown",
   "metadata": {
    "id": "zPNbKGC1JDkp"
   },
   "source": [
    "##### Use a join to keep all dates present"
   ]
  },
  {
   "cell_type": "markdown",
   "metadata": {
    "id": "7HTfg4ZpsN1P"
   },
   "source": [
    "Each DataFrame had a column named `PRCP`, so the default is to add suffixes _x and _y to differentiate the columns. Normally, I would rename the columns at this point to something more informative. However, I know that I want to convert the DataFrame to a tidy format and I will modify the names later."
   ]
  },
  {
   "cell_type": "code",
   "execution_count": 34,
   "metadata": {},
   "outputs": [
    {
     "data": {
      "text/html": [
       "<div>\n",
       "<style scoped>\n",
       "    .dataframe tbody tr th:only-of-type {\n",
       "        vertical-align: middle;\n",
       "    }\n",
       "\n",
       "    .dataframe tbody tr th {\n",
       "        vertical-align: top;\n",
       "    }\n",
       "\n",
       "    .dataframe thead th {\n",
       "        text-align: right;\n",
       "    }\n",
       "</style>\n",
       "<table border=\"1\" class=\"dataframe\">\n",
       "  <thead>\n",
       "    <tr style=\"text-align: right;\">\n",
       "      <th></th>\n",
       "      <th>DATE</th>\n",
       "      <th>PRCP_x</th>\n",
       "      <th>PRCP_y</th>\n",
       "    </tr>\n",
       "  </thead>\n",
       "  <tbody>\n",
       "    <tr>\n",
       "      <th>0</th>\n",
       "      <td>2018-01-01</td>\n",
       "      <td>0.0</td>\n",
       "      <td>0.00</td>\n",
       "    </tr>\n",
       "    <tr>\n",
       "      <th>1</th>\n",
       "      <td>2018-01-02</td>\n",
       "      <td>0.0</td>\n",
       "      <td>0.00</td>\n",
       "    </tr>\n",
       "    <tr>\n",
       "      <th>2</th>\n",
       "      <td>2018-01-03</td>\n",
       "      <td>0.0</td>\n",
       "      <td>0.00</td>\n",
       "    </tr>\n",
       "    <tr>\n",
       "      <th>3</th>\n",
       "      <td>2018-01-04</td>\n",
       "      <td>0.0</td>\n",
       "      <td>0.00</td>\n",
       "    </tr>\n",
       "    <tr>\n",
       "      <th>4</th>\n",
       "      <td>2018-01-05</td>\n",
       "      <td>0.0</td>\n",
       "      <td>0.25</td>\n",
       "    </tr>\n",
       "  </tbody>\n",
       "</table>\n",
       "</div>"
      ],
      "text/plain": [
       "        DATE  PRCP_x  PRCP_y\n",
       "0 2018-01-01     0.0    0.00\n",
       "1 2018-01-02     0.0    0.00\n",
       "2 2018-01-03     0.0    0.00\n",
       "3 2018-01-04     0.0    0.00\n",
       "4 2018-01-05     0.0    0.25"
      ]
     },
     "execution_count": 34,
     "metadata": {},
     "output_type": "execute_result"
    }
   ],
   "source": [
    "# One example is using the MERGE data, taking the stl dataset and only keeping the columns of date and prcp\n",
    "## we pass these columns as a LIST of columns. if it was just one column it would not be a list\n",
    "\n",
    "df_join = df_stl[['DATE','PRCP']].merge(df_seattle[['DATE','PRCP']], on='DATE', how='outer') # could use suffixes _sea _stl\n",
    "df_join.head()"
   ]
  },
  {
   "cell_type": "code",
   "execution_count": 33,
   "metadata": {},
   "outputs": [
    {
     "data": {
      "text/plain": [
       "(1826, 3)"
      ]
     },
     "execution_count": 33,
     "metadata": {},
     "output_type": "execute_result"
    }
   ],
   "source": [
    "df_join.shape"
   ]
  },
  {
   "cell_type": "markdown",
   "metadata": {
    "id": "TklEWrlhsEiQ"
   },
   "source": [
    "### Create a tidy data frame with columns for city and precipitation"
   ]
  },
  {
   "cell_type": "code",
   "execution_count": 35,
   "metadata": {
    "id": "PDutvglumIOg"
   },
   "outputs": [
    {
     "data": {
      "text/html": [
       "<div>\n",
       "<style scoped>\n",
       "    .dataframe tbody tr th:only-of-type {\n",
       "        vertical-align: middle;\n",
       "    }\n",
       "\n",
       "    .dataframe tbody tr th {\n",
       "        vertical-align: top;\n",
       "    }\n",
       "\n",
       "    .dataframe thead th {\n",
       "        text-align: right;\n",
       "    }\n",
       "</style>\n",
       "<table border=\"1\" class=\"dataframe\">\n",
       "  <thead>\n",
       "    <tr style=\"text-align: right;\">\n",
       "      <th></th>\n",
       "      <th>DATE</th>\n",
       "      <th>city</th>\n",
       "      <th>precipitation</th>\n",
       "    </tr>\n",
       "  </thead>\n",
       "  <tbody>\n",
       "    <tr>\n",
       "      <th>0</th>\n",
       "      <td>2018-01-01</td>\n",
       "      <td>PRCP_x</td>\n",
       "      <td>0.00</td>\n",
       "    </tr>\n",
       "    <tr>\n",
       "      <th>1</th>\n",
       "      <td>2018-01-02</td>\n",
       "      <td>PRCP_x</td>\n",
       "      <td>0.00</td>\n",
       "    </tr>\n",
       "    <tr>\n",
       "      <th>2</th>\n",
       "      <td>2018-01-03</td>\n",
       "      <td>PRCP_x</td>\n",
       "      <td>0.00</td>\n",
       "    </tr>\n",
       "    <tr>\n",
       "      <th>3</th>\n",
       "      <td>2018-01-04</td>\n",
       "      <td>PRCP_x</td>\n",
       "      <td>0.00</td>\n",
       "    </tr>\n",
       "    <tr>\n",
       "      <th>4</th>\n",
       "      <td>2018-01-05</td>\n",
       "      <td>PRCP_x</td>\n",
       "      <td>0.00</td>\n",
       "    </tr>\n",
       "    <tr>\n",
       "      <th>...</th>\n",
       "      <td>...</td>\n",
       "      <td>...</td>\n",
       "      <td>...</td>\n",
       "    </tr>\n",
       "    <tr>\n",
       "      <th>3647</th>\n",
       "      <td>2022-12-27</td>\n",
       "      <td>PRCP_y</td>\n",
       "      <td>0.78</td>\n",
       "    </tr>\n",
       "    <tr>\n",
       "      <th>3648</th>\n",
       "      <td>2022-12-28</td>\n",
       "      <td>PRCP_y</td>\n",
       "      <td>0.40</td>\n",
       "    </tr>\n",
       "    <tr>\n",
       "      <th>3649</th>\n",
       "      <td>2022-12-29</td>\n",
       "      <td>PRCP_y</td>\n",
       "      <td>0.03</td>\n",
       "    </tr>\n",
       "    <tr>\n",
       "      <th>3650</th>\n",
       "      <td>2022-12-30</td>\n",
       "      <td>PRCP_y</td>\n",
       "      <td>0.62</td>\n",
       "    </tr>\n",
       "    <tr>\n",
       "      <th>3651</th>\n",
       "      <td>2022-12-31</td>\n",
       "      <td>PRCP_y</td>\n",
       "      <td>0.17</td>\n",
       "    </tr>\n",
       "  </tbody>\n",
       "</table>\n",
       "<p>3652 rows × 3 columns</p>\n",
       "</div>"
      ],
      "text/plain": [
       "           DATE    city  precipitation\n",
       "0    2018-01-01  PRCP_x           0.00\n",
       "1    2018-01-02  PRCP_x           0.00\n",
       "2    2018-01-03  PRCP_x           0.00\n",
       "3    2018-01-04  PRCP_x           0.00\n",
       "4    2018-01-05  PRCP_x           0.00\n",
       "...         ...     ...            ...\n",
       "3647 2022-12-27  PRCP_y           0.78\n",
       "3648 2022-12-28  PRCP_y           0.40\n",
       "3649 2022-12-29  PRCP_y           0.03\n",
       "3650 2022-12-30  PRCP_y           0.62\n",
       "3651 2022-12-31  PRCP_y           0.17\n",
       "\n",
       "[3652 rows x 3 columns]"
      ]
     },
     "execution_count": 35,
     "metadata": {},
     "output_type": "execute_result"
    }
   ],
   "source": [
    "# a better format would be to have date, name, and prcp instead of two prcp columns\n",
    "df_join = pd.melt(df_join,id_vars='DATE',var_name='city', value_name='precipitation')\n",
    "# we're using df_join, the key we care about is date, the variable name will be the new column name, previously two columns\n",
    "# the value_name will the values that used to be in the previous two columns\n",
    "df_join"
   ]
  },
  {
   "cell_type": "markdown",
   "metadata": {
    "id": "5PNjVV4QgOuz"
   },
   "source": [
    "How did this change the DataFrame?"
   ]
  },
  {
   "cell_type": "code",
   "execution_count": 37,
   "metadata": {
    "id": "AFStfLoNmf-I"
   },
   "outputs": [
    {
     "data": {
      "text/html": [
       "<div>\n",
       "<style scoped>\n",
       "    .dataframe tbody tr th:only-of-type {\n",
       "        vertical-align: middle;\n",
       "    }\n",
       "\n",
       "    .dataframe tbody tr th {\n",
       "        vertical-align: top;\n",
       "    }\n",
       "\n",
       "    .dataframe thead th {\n",
       "        text-align: right;\n",
       "    }\n",
       "</style>\n",
       "<table border=\"1\" class=\"dataframe\">\n",
       "  <thead>\n",
       "    <tr style=\"text-align: right;\">\n",
       "      <th></th>\n",
       "      <th>DATE</th>\n",
       "      <th>city</th>\n",
       "      <th>precipitation</th>\n",
       "    </tr>\n",
       "  </thead>\n",
       "  <tbody>\n",
       "    <tr>\n",
       "      <th>0</th>\n",
       "      <td>2018-01-01</td>\n",
       "      <td>PRCP_x</td>\n",
       "      <td>0.0</td>\n",
       "    </tr>\n",
       "    <tr>\n",
       "      <th>1</th>\n",
       "      <td>2018-01-02</td>\n",
       "      <td>PRCP_x</td>\n",
       "      <td>0.0</td>\n",
       "    </tr>\n",
       "    <tr>\n",
       "      <th>2</th>\n",
       "      <td>2018-01-03</td>\n",
       "      <td>PRCP_x</td>\n",
       "      <td>0.0</td>\n",
       "    </tr>\n",
       "    <tr>\n",
       "      <th>3</th>\n",
       "      <td>2018-01-04</td>\n",
       "      <td>PRCP_x</td>\n",
       "      <td>0.0</td>\n",
       "    </tr>\n",
       "    <tr>\n",
       "      <th>4</th>\n",
       "      <td>2018-01-05</td>\n",
       "      <td>PRCP_x</td>\n",
       "      <td>0.0</td>\n",
       "    </tr>\n",
       "  </tbody>\n",
       "</table>\n",
       "</div>"
      ],
      "text/plain": [
       "        DATE    city  precipitation\n",
       "0 2018-01-01  PRCP_x            0.0\n",
       "1 2018-01-02  PRCP_x            0.0\n",
       "2 2018-01-03  PRCP_x            0.0\n",
       "3 2018-01-04  PRCP_x            0.0\n",
       "4 2018-01-05  PRCP_x            0.0"
      ]
     },
     "execution_count": 37,
     "metadata": {},
     "output_type": "execute_result"
    }
   ],
   "source": [
    "df_join.head()"
   ]
  },
  {
   "cell_type": "markdown",
   "metadata": {
    "id": "bnngJvdDiCbS"
   },
   "source": [
    "### Rename columns or values to follow best practices"
   ]
  },
  {
   "cell_type": "markdown",
   "metadata": {
    "id": "Au8SCopULgXT"
   },
   "source": [
    "Rename the city values 'STL' and 'SEA'"
   ]
  },
  {
   "cell_type": "markdown",
   "metadata": {
    "id": "KzbDZf1d4BpT"
   },
   "source": [
    "##### Rename the columns to be lowercase using `df.rename()`"
   ]
  },
  {
   "cell_type": "code",
   "execution_count": 41,
   "metadata": {},
   "outputs": [],
   "source": [
    "##df_join.rename('PRCP_x')\n",
    "df_join.loc[df_join['city']=='PRCP_x','city'] = 'STL'\n",
    "## check where city == PRCP_x, use the city column and chant it to STL\n",
    "## in this case we are expliciatly changing one part of the data frame and that is assignment of that dataframe"
   ]
  },
  {
   "cell_type": "code",
   "execution_count": 42,
   "metadata": {},
   "outputs": [],
   "source": [
    "df_join.loc[df_join['city']=='PRCP_y','city'] = 'SEA'"
   ]
  },
  {
   "cell_type": "code",
   "execution_count": 44,
   "metadata": {
    "scrolled": true
   },
   "outputs": [
    {
     "data": {
      "text/html": [
       "<div>\n",
       "<style scoped>\n",
       "    .dataframe tbody tr th:only-of-type {\n",
       "        vertical-align: middle;\n",
       "    }\n",
       "\n",
       "    .dataframe tbody tr th {\n",
       "        vertical-align: top;\n",
       "    }\n",
       "\n",
       "    .dataframe thead th {\n",
       "        text-align: right;\n",
       "    }\n",
       "</style>\n",
       "<table border=\"1\" class=\"dataframe\">\n",
       "  <thead>\n",
       "    <tr style=\"text-align: right;\">\n",
       "      <th></th>\n",
       "      <th>DATE</th>\n",
       "      <th>city</th>\n",
       "      <th>precipitation</th>\n",
       "    </tr>\n",
       "  </thead>\n",
       "  <tbody>\n",
       "    <tr>\n",
       "      <th>3647</th>\n",
       "      <td>2022-12-27</td>\n",
       "      <td>SEA</td>\n",
       "      <td>0.78</td>\n",
       "    </tr>\n",
       "    <tr>\n",
       "      <th>3648</th>\n",
       "      <td>2022-12-28</td>\n",
       "      <td>SEA</td>\n",
       "      <td>0.40</td>\n",
       "    </tr>\n",
       "    <tr>\n",
       "      <th>3649</th>\n",
       "      <td>2022-12-29</td>\n",
       "      <td>SEA</td>\n",
       "      <td>0.03</td>\n",
       "    </tr>\n",
       "    <tr>\n",
       "      <th>3650</th>\n",
       "      <td>2022-12-30</td>\n",
       "      <td>SEA</td>\n",
       "      <td>0.62</td>\n",
       "    </tr>\n",
       "    <tr>\n",
       "      <th>3651</th>\n",
       "      <td>2022-12-31</td>\n",
       "      <td>SEA</td>\n",
       "      <td>0.17</td>\n",
       "    </tr>\n",
       "  </tbody>\n",
       "</table>\n",
       "</div>"
      ],
      "text/plain": [
       "           DATE city  precipitation\n",
       "3647 2022-12-27  SEA           0.78\n",
       "3648 2022-12-28  SEA           0.40\n",
       "3649 2022-12-29  SEA           0.03\n",
       "3650 2022-12-30  SEA           0.62\n",
       "3651 2022-12-31  SEA           0.17"
      ]
     },
     "execution_count": 44,
     "metadata": {},
     "output_type": "execute_result"
    }
   ],
   "source": [
    "df_join.tail()"
   ]
  },
  {
   "cell_type": "code",
   "execution_count": 45,
   "metadata": {},
   "outputs": [],
   "source": [
    "df_join = df_join.rename(columns={'DATE':'date'})"
   ]
  },
  {
   "cell_type": "code",
   "execution_count": 46,
   "metadata": {},
   "outputs": [
    {
     "data": {
      "text/html": [
       "<div>\n",
       "<style scoped>\n",
       "    .dataframe tbody tr th:only-of-type {\n",
       "        vertical-align: middle;\n",
       "    }\n",
       "\n",
       "    .dataframe tbody tr th {\n",
       "        vertical-align: top;\n",
       "    }\n",
       "\n",
       "    .dataframe thead th {\n",
       "        text-align: right;\n",
       "    }\n",
       "</style>\n",
       "<table border=\"1\" class=\"dataframe\">\n",
       "  <thead>\n",
       "    <tr style=\"text-align: right;\">\n",
       "      <th></th>\n",
       "      <th>date</th>\n",
       "      <th>city</th>\n",
       "      <th>precipitation</th>\n",
       "    </tr>\n",
       "  </thead>\n",
       "  <tbody>\n",
       "    <tr>\n",
       "      <th>0</th>\n",
       "      <td>2018-01-01</td>\n",
       "      <td>STL</td>\n",
       "      <td>0.0</td>\n",
       "    </tr>\n",
       "    <tr>\n",
       "      <th>1</th>\n",
       "      <td>2018-01-02</td>\n",
       "      <td>STL</td>\n",
       "      <td>0.0</td>\n",
       "    </tr>\n",
       "    <tr>\n",
       "      <th>2</th>\n",
       "      <td>2018-01-03</td>\n",
       "      <td>STL</td>\n",
       "      <td>0.0</td>\n",
       "    </tr>\n",
       "    <tr>\n",
       "      <th>3</th>\n",
       "      <td>2018-01-04</td>\n",
       "      <td>STL</td>\n",
       "      <td>0.0</td>\n",
       "    </tr>\n",
       "    <tr>\n",
       "      <th>4</th>\n",
       "      <td>2018-01-05</td>\n",
       "      <td>STL</td>\n",
       "      <td>0.0</td>\n",
       "    </tr>\n",
       "  </tbody>\n",
       "</table>\n",
       "</div>"
      ],
      "text/plain": [
       "        date city  precipitation\n",
       "0 2018-01-01  STL            0.0\n",
       "1 2018-01-02  STL            0.0\n",
       "2 2018-01-03  STL            0.0\n",
       "3 2018-01-04  STL            0.0\n",
       "4 2018-01-05  STL            0.0"
      ]
     },
     "execution_count": 46,
     "metadata": {},
     "output_type": "execute_result"
    }
   ],
   "source": [
    "df_join.head()"
   ]
  },
  {
   "cell_type": "markdown",
   "metadata": {
    "id": "aAaUY6N1rtoa"
   },
   "source": [
    "## Identify and fill in missing values"
   ]
  },
  {
   "cell_type": "markdown",
   "metadata": {
    "id": "AtkhvgvlCBdw"
   },
   "source": [
    "Data can be missing in multiple manners:\n",
    "1. Values are `NaN` in the data frame"
   ]
  },
  {
   "cell_type": "code",
   "execution_count": 47,
   "metadata": {
    "scrolled": true
   },
   "outputs": [
    {
     "name": "stdout",
     "output_type": "stream",
     "text": [
      "<class 'pandas.core.frame.DataFrame'>\n",
      "RangeIndex: 3652 entries, 0 to 3651\n",
      "Data columns (total 3 columns):\n",
      " #   Column         Non-Null Count  Dtype         \n",
      "---  ------         --------------  -----         \n",
      " 0   date           3652 non-null   datetime64[ns]\n",
      " 1   city           3652 non-null   object        \n",
      " 2   precipitation  3462 non-null   float64       \n",
      "dtypes: datetime64[ns](1), float64(1), object(1)\n",
      "memory usage: 85.7+ KB\n"
     ]
    }
   ],
   "source": [
    "df_join.info()"
   ]
  },
  {
   "cell_type": "code",
   "execution_count": 49,
   "metadata": {},
   "outputs": [
    {
     "data": {
      "text/plain": [
       "date               0\n",
       "city               0\n",
       "precipitation    190\n",
       "dtype: int64"
      ]
     },
     "execution_count": 49,
     "metadata": {},
     "output_type": "execute_result"
    }
   ],
   "source": [
    "df_join.isna().sum()"
   ]
  },
  {
   "cell_type": "markdown",
   "metadata": {
    "id": "yqbdb5CvCRFM"
   },
   "source": [
    "2.  Values are not included in the data set."
   ]
  },
  {
   "cell_type": "markdown",
   "metadata": {
    "id": "fvrV7uD0mzG6"
   },
   "source": [
    "### Count the non-null or null values"
   ]
  },
  {
   "cell_type": "markdown",
   "metadata": {
    "id": "Q1rA_SSUPyUT"
   },
   "source": [
    "Determine the number of non-null values in each column."
   ]
  },
  {
   "cell_type": "markdown",
   "metadata": {
    "id": "9rgs-UvovTga"
   },
   "source": [
    "##### Determine the number of null values in each column."
   ]
  },
  {
   "cell_type": "markdown",
   "metadata": {
    "id": "ceiU_nolviBn"
   },
   "source": [
    "##### Determine the number of null precipitation values for Seattle and St. Louis."
   ]
  },
  {
   "cell_type": "code",
   "execution_count": 52,
   "metadata": {},
   "outputs": [
    {
     "data": {
      "text/plain": [
       "190"
      ]
     },
     "execution_count": 52,
     "metadata": {},
     "output_type": "execute_result"
    }
   ],
   "source": [
    "df_join.loc[df_join['city']=='SEA','precipitation'].isna().sum()"
   ]
  },
  {
   "cell_type": "code",
   "execution_count": 53,
   "metadata": {},
   "outputs": [
    {
     "data": {
      "text/plain": [
       "0"
      ]
     },
     "execution_count": 53,
     "metadata": {},
     "output_type": "execute_result"
    }
   ],
   "source": [
    "df_join.loc[df_join['city']=='STL','precipitation'].isna().sum()"
   ]
  },
  {
   "cell_type": "code",
   "execution_count": 54,
   "metadata": {},
   "outputs": [
    {
     "data": {
      "text/plain": [
       "1826"
      ]
     },
     "execution_count": 54,
     "metadata": {},
     "output_type": "execute_result"
    }
   ],
   "source": [
    "df_join.loc[df_join['city']=='STL','precipitation'].notna().sum()"
   ]
  },
  {
   "cell_type": "markdown",
   "metadata": {
    "id": "AKd8Izs4CvfC"
   },
   "source": [
    "##### The St. Louis data set does not have any `NaN` values of `precipitation`. Are any dates omitted?\n",
    "\n",
    "**How many data points should we have from 2018 to 2022?**"
   ]
  },
  {
   "cell_type": "code",
   "execution_count": null,
   "metadata": {},
   "outputs": [],
   "source": [
    "## there should be 365 days x 5 years plus 1 leap year per station\n",
    "#1826 days for STL which means only seattle is missing data\n",
    "## all the seattle nan is all that is missing because we have one day for every day of the year via stl\n",
    "## we did an outer join so we know we have the full calendar"
   ]
  },
  {
   "cell_type": "markdown",
   "metadata": {
    "id": "7W_iTvjbXx8_"
   },
   "source": [
    "### Impute missing values"
   ]
  },
  {
   "cell_type": "markdown",
   "metadata": {
    "id": "3OTbPI91dMOB"
   },
   "source": [
    "We will replace missing values with the mean across years of values on that day.\n",
    "\n",
    "\n",
    "**Design an algorithm for replacing missing values with the mean across years of values on that day.**"
   ]
  },
  {
   "cell_type": "code",
   "execution_count": null,
   "metadata": {},
   "outputs": [],
   "source": [
    "## take the average of the same day in the other years and replace the nan days with that average"
   ]
  },
  {
   "cell_type": "markdown",
   "metadata": {
    "id": "oKGHtonZsZCM"
   },
   "source": [
    "## Export the clean .csv file"
   ]
  },
  {
   "cell_type": "code",
   "execution_count": null,
   "metadata": {
    "id": "EqBz9TkxKp5-"
   },
   "outputs": [],
   "source": [
    "df.to_csv('clean_seattle_stlouis_weather.csv', encoding='utf-8-sig', index=False)"
   ]
  }
 ],
 "metadata": {
  "colab": {
   "provenance": [],
   "toc_visible": true
  },
  "kernelspec": {
   "display_name": "Python 3 (ipykernel)",
   "language": "python",
   "name": "python3"
  },
  "language_info": {
   "codemirror_mode": {
    "name": "ipython",
    "version": 3
   },
   "file_extension": ".py",
   "mimetype": "text/x-python",
   "name": "python",
   "nbconvert_exporter": "python",
   "pygments_lexer": "ipython3",
   "version": "3.9.7"
  }
 },
 "nbformat": 4,
 "nbformat_minor": 1
}
